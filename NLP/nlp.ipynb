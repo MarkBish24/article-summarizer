{
 "cells": [
  {
   "cell_type": "code",
   "execution_count": 2,
   "id": "0fcf4418-b8cb-4a0d-b2ec-d64bfaf19c5d",
   "metadata": {},
   "outputs": [],
   "source": [
    "import spacy\n",
    "from collections import Counter"
   ]
  },
  {
   "cell_type": "code",
   "execution_count": 10,
   "id": "1fbeea30-073f-44f6-9a46-275b16dab801",
   "metadata": {},
   "outputs": [],
   "source": [
    "nlp = spacy.load(\"en_core_web_md\")\n",
    "\n",
    "def summarize(text, num_sentences=10):\n",
    "    #Process the text throught the spacy npl\n",
    "    doc = nlp(text)\n",
    "\n",
    "    #get each token in the doc where it a word and isn't a common word like \"the\", \"a\", or \"is\"\n",
    "    words = [token.text.lower() for token in doc if token.is_alpha and not token.is_stop]\n",
    "    #Create a counter for each of the words to find the most common\n",
    "    word_freq = Counter(words)\n",
    "\n",
    "    #Sort by most common words\n",
    "    max_freq = max(word_freq.values(), default=1)\n",
    "    #normalize it to give it a score of most frequent words scale count to 0-1(Adds a weight)\n",
    "    for word in word_freq:\n",
    "        word_freq[word] = word_freq[word] / max_freq\n",
    "\n",
    "    #Score sentence dictionary,( Basic Hashmap frequency algorithm)\n",
    "    sentence_scores = {}\n",
    "    # go through each sentence of each word in the doc again \n",
    "    for sent in doc.sents:\n",
    "        for word in sents:\n",
    "            if word.text.lower() in word_freq: # if the word is in the freq list add it's weight\n",
    "                sentence_scores[sent] = sentence_scores.get(sent, 0) + word_freq[word.text.lower()]\n",
    "\n",
    "    #get the top sentences with the highest score\n",
    "    summary_sentences = sorted(sentence_scores, key=sentence_scores.get, reverse=True)[:num_sentences]\n",
    "\n",
    "    summary = \" \".join([sent.text for sent in summary_suntences])\n",
    "\n",
    "    return summary"
   ]
  },
  {
   "cell_type": "code",
   "execution_count": 11,
   "id": "823eed15-f68d-4f93-a6c0-9a808156af52",
   "metadata": {},
   "outputs": [
    {
     "ename": "ModuleNotFoundError",
     "evalue": "No module named 'transformers'",
     "output_type": "error",
     "traceback": [
      "\u001b[1;31m---------------------------------------------------------------------------\u001b[0m",
      "\u001b[1;31mModuleNotFoundError\u001b[0m                       Traceback (most recent call last)",
      "Cell \u001b[1;32mIn[11], line 1\u001b[0m\n\u001b[1;32m----> 1\u001b[0m \u001b[38;5;28;01mfrom\u001b[39;00m \u001b[38;5;21;01mtransformers\u001b[39;00m \u001b[38;5;28;01mimport\u001b[39;00m pipeline\n",
      "\u001b[1;31mModuleNotFoundError\u001b[0m: No module named 'transformers'"
     ]
    }
   ],
   "source": [
    "from transformers import pipeline"
   ]
  },
  {
   "cell_type": "code",
   "execution_count": null,
   "id": "0331a153-e717-40a9-94be-2647c5b319fe",
   "metadata": {},
   "outputs": [],
   "source": []
  }
 ],
 "metadata": {
  "kernelspec": {
   "display_name": "Python 3 (ipykernel)",
   "language": "python",
   "name": "python3"
  },
  "language_info": {
   "codemirror_mode": {
    "name": "ipython",
    "version": 3
   },
   "file_extension": ".py",
   "mimetype": "text/x-python",
   "name": "python",
   "nbconvert_exporter": "python",
   "pygments_lexer": "ipython3",
   "version": "3.10.16"
  }
 },
 "nbformat": 4,
 "nbformat_minor": 5
}
