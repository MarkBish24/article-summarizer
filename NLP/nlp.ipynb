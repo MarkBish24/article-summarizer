{
 "cells": [
  {
   "cell_type": "code",
   "execution_count": null,
   "id": "0fcf4418-b8cb-4a0d-b2ec-d64bfaf19c5d",
   "metadata": {},
   "outputs": [],
   "source": [
    "import spacy\n",
    "from collections import Counter"
   ]
  },
  {
   "cell_type": "code",
   "execution_count": null,
   "id": "1fbeea30-073f-44f6-9a46-275b16dab801",
   "metadata": {},
   "outputs": [],
   "source": [
    "nlp = spacy.load(\"en_core_web_sm\")\n",
    "\n",
    "def summarize(text, num_sentences=10):\n",
    "    #Process the text throught the spacy npl\n",
    "    doc = nlp(text)\n",
    "\n",
    "    #get each token in the doc where it a word and isn't a common word like \"the\", \"a\", or \"is\"\n",
    "    words = [token.text.lower() for token in doc if token.is_alpha and not token.is_stop]\n",
    "    #Create a counter for each of the words to find the most common\n",
    "    word_freq = Counter(words)\n",
    "\n",
    "    #Sort by most common words\n",
    "    max_freq = max(word_freq.values(), default=1)\n",
    "    #normalize it to give it a score of most frequent words scale count to 0-1(Adds a weight)\n",
    "    for word in word_freq:\n",
    "        word_freq[word] = word_freq[word] / max_freq\n",
    "\n",
    "    #Score sentence dictionary,( Basic Hashmap frequency algorithm)\n",
    "    sentence_scores = {}\n",
    "    # go through each sentence of each word in the doc again \n",
    "    for sent in doc.sents:\n",
    "        for word in sent:\n",
    "            if word.text.lower() in word_freq: # if the word is in the freq list add it's weight\n",
    "                sentence_scores[sent] = sentence_scores.get(sent, 0) + word_freq[word.text.lower()]\n",
    "\n",
    "    #get the top sentences with the highest score\n",
    "    summary_sentences = sorted(sentence_scores, key=sentence_scores.get, reverse=True)[:num_sentences]\n",
    "\n",
    "    summary = \" \".join([sent.text for sent in summary_sentences])\n",
    "\n",
    "    return summary"
   ]
  },
  {
   "cell_type": "code",
   "execution_count": null,
   "id": "823eed15-f68d-4f93-a6c0-9a808156af52",
   "metadata": {},
   "outputs": [],
   "source": [
    "#!pip install torch\n",
    "#!pip install transformers\n",
    "from transformers import pipeline"
   ]
  },
  {
   "cell_type": "code",
   "execution_count": null,
   "id": "3d48c515-5703-4660-bfde-ebb4454a5eb7",
   "metadata": {},
   "outputs": [],
   "source": [
    "import torch\n",
    "print(torch.__version__)\n",
    "print(torch.cuda.is_available())"
   ]
  },
  {
   "cell_type": "code",
   "execution_count": null,
   "id": "0331a153-e717-40a9-94be-2647c5b319fe",
   "metadata": {},
   "outputs": [],
   "source": [
    "### Had to use on Google Collab because it was to intense on my PC, but functionally works the same\n",
    "\n",
    "summarizer = pipeline(\"summarization\", model=\"facebook/bart-large-cnn\")\n",
    "\n",
    "text = \"\"\"\n",
    "WASHINGTON (AP) — President Donald Trump began imposing higher import taxes on dozens of countries Thursday just as the economic fallout of his monthslong tariff threats has begun to cause visible damage to the U.S. economy.\n",
    "\n",
    "Just after midnight, goods from more than 60 countries and the European Union became subject to tariff rates of 10% or higher. Products from the EU, Japan and South Korea are taxed at 15%, while imports from Taiwan, Vietnam and Bangladesh are taxed at 20%. Trump also expects the EU, Japan and South Korea to invest hundreds of billions of dollars in the United States.\n",
    "\n",
    "“I think the growth is going to be unprecedented,” Trump said Wednesday. He said the U.S. was “taking in hundreds of billions of dollars in tariffs,” but did not provide a specific figure for revenues because “we don’t even know what the final number is” regarding the rates.\n",
    "\n",
    "Despite the uncertainty, the White House is confident that the onset of his tariffs will provide clarity about the path for the world’s largest economy. Now that companies understand the direction the U.S. is headed, the Republican administration believes it can ramp up new investments and jump-start hiring in ways that can rebalance America as a manufacturing power.\n",
    "\n",
    "So far, however, there are signs of self-inflicted wounds to the U.S. as companies and consumers brace for the impact of the new taxes.\n",
    "\n",
    "Hiring began to stall, inflationary pressures crept upward and home values in key markets started to decline after the initial tariff rollout in April, said John Silvia, CEO of Dynamic Economic Strategy.\n",
    "\n",
    "“A less productive economy requires fewer workers,” Silvia said. “But there is more, the higher tariff prices lower workers’ real wages. The economy has become less productive, and firms cannot pay the same real wages as before. Actions have consequences.”\n",
    "\n",
    "Many economists say the risk is that the American economy is steadily eroded.\n",
    "\n",
    "“It’s going to be fine sand in the gears and slow things down,” said Brad Jensen, a professor at Georgetown University.\n",
    "\n",
    "Trump has promoted the tariffs as a way to reduce America’s persistent trade deficit. But importers tried to avoid the taxes by bringing in more goods before the tariffs took effect. As a result, the $582.7 billion trade imbalance for the first half of the year was 38% higher than in 2024. Total construction spending has dropped 2.9% over the past year.\n",
    "\n",
    "The economic pain is not confined to the U.S.\n",
    "\n",
    "Germany, which sends 10% of its exports to the U.S. market, saw industrial production sag 1.9% in June as Trump’s earlier rounds of tariffs took hold. “The new tariffs will clearly weigh on economic growth,” said Carsten Brzeski, global chief of macro for ING bank.\n",
    "\"\"\"\n",
    "summary = summarizer(summarize(text), max_length=120, min_length=50, so_sample=False)\n",
    "print(summary[0]['summary_text'])"
   ]
  },
  {
   "cell_type": "code",
   "execution_count": null,
   "id": "b7ba95f4-67b3-44c0-807b-c1b4780bc41c",
   "metadata": {},
   "outputs": [],
   "source": []
  }
 ],
 "metadata": {
  "kernelspec": {
   "display_name": "Python 3 (ipykernel)",
   "language": "python",
   "name": "python3"
  },
  "language_info": {
   "codemirror_mode": {
    "name": "ipython",
    "version": 3
   },
   "file_extension": ".py",
   "mimetype": "text/x-python",
   "name": "python",
   "nbconvert_exporter": "python",
   "pygments_lexer": "ipython3",
   "version": "3.10.16"
  }
 },
 "nbformat": 4,
 "nbformat_minor": 5
}
