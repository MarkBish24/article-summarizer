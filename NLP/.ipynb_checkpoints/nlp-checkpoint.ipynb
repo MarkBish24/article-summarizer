{
 "cells": [
  {
   "cell_type": "code",
   "execution_count": 2,
   "id": "0fcf4418-b8cb-4a0d-b2ec-d64bfaf19c5d",
   "metadata": {},
   "outputs": [],
   "source": [
    "import spacy\n",
    "from collections import Counter"
   ]
  },
  {
   "cell_type": "code",
   "execution_count": null,
   "id": "b8548e1f-304f-4ac6-8e83-276304264d68",
   "metadata": {},
   "outputs": [],
   "source": [
    "nlp = spacy.load(\"en_core_web_sm\")\n",
    "\n",
    "def summarize(text, num_sentences=3):\n",
    "    #Process text\n",
    "    doc = nlp(text)\n",
    "    words = [token.text.lower() for token in doc if token.is_alpha and not token.is_stop]\n",
    "    word_freq = Counter(words)\n",
    "\n",
    "    max_freq = max(word_freq.values(), default=1)\n",
    "    for word in word_freq:\n",
    "        word_freq[word] = word_freq[word] / max_freq\n",
    "\n",
    "    sentence_scores = {}\n",
    "    for sent in doc.sents:\n",
    "        for word in sent:\n",
    "            if word.text.lower() in word_freq:\n",
    "                sentence_scores[sent] = sentence_scores.get(sent, 0)\n",
    "                    + word_freq[word.text.lower()]\n",
    "    # Select top sentences\n",
    "    summary_sentences = sorted(sentence_scores, key=sentence_scores.get, reverse=True)[:num_sentences]\n",
    "    summary = \" \".join([sent.text for sent in summary_sentences])\n",
    "\n",
    "# Example usage\n",
    "if __name__ == \"__main__\":\n",
    "    article_text = \"\"\"\n",
    "    Artificial Intelligence (AI) is transforming industries across the globe.\n",
    "    From healthcare to finance, AI-powered systems are improving efficiency and\n",
    "    decision-making. However, ethical concerns such as bias, job displacement,\n",
    "    and privacy must be carefully managed to ensure responsible adoption.\n",
    "    Many experts believe collaboration between governments, businesses, and\n",
    "    researchers is essential for building safe and beneficial AI systems.\n",
    "    \"\"\"\n",
    "\n",
    "    print(\"Original text length:\", len(article_text.split()), \"words\")\n",
    "    print(\"\\nSUMMARY:\")\n",
    "    print(summarize(article_text, num_sentences=2))"
   ]
  }
 ],
 "metadata": {
  "kernelspec": {
   "display_name": "Python 3 (ipykernel)",
   "language": "python",
   "name": "python3"
  },
  "language_info": {
   "codemirror_mode": {
    "name": "ipython",
    "version": 3
   },
   "file_extension": ".py",
   "mimetype": "text/x-python",
   "name": "python",
   "nbconvert_exporter": "python",
   "pygments_lexer": "ipython3",
   "version": "3.10.16"
  }
 },
 "nbformat": 4,
 "nbformat_minor": 5
}
